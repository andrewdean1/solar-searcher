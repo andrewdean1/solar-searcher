{
 "cells": [
  {
   "cell_type": "markdown",
   "metadata": {},
   "source": [
    "# Combining Our Local Data Sources\n",
    "\n",
    "## Combining `.tif` File Data"
   ]
  },
  {
   "cell_type": "code",
   "execution_count": 3,
   "id": "633c552b",
   "metadata": {},
   "outputs": [],
   "source": [
    "from rasterio.plot import plotting_extent\n",
    "import matplotlib.pyplot as plt\n",
    "import pandas as pd\n",
    "import numpy as np\n",
    "import rasterio"
   ]
  },
  {
   "cell_type": "code",
   "execution_count": 5,
   "metadata": {},
   "outputs": [
    {
     "ename": "KeyboardInterrupt",
     "evalue": "",
     "output_type": "error",
     "traceback": [
      "\u001b[0;31m---------------------------------------------------------------------------\u001b[0m",
      "\u001b[0;31mKeyboardInterrupt\u001b[0m                         Traceback (most recent call last)",
      "Cell \u001b[0;32mIn[5], line 28\u001b[0m\n\u001b[1;32m     26\u001b[0m \u001b[38;5;28;01mfor\u001b[39;00m col \u001b[38;5;129;01min\u001b[39;00m \u001b[38;5;28mrange\u001b[39m(w):\n\u001b[1;32m     27\u001b[0m     pvo_val \u001b[38;5;241m=\u001b[39m pvo_data[row, col]\n\u001b[0;32m---> 28\u001b[0m     \u001b[38;5;28;01mif\u001b[39;00m \u001b[43mpvo_val\u001b[49m\u001b[43m \u001b[49m\u001b[38;5;241;43m!=\u001b[39;49m\u001b[43m \u001b[49m\u001b[43mds\u001b[49m\u001b[38;5;241;43m.\u001b[39;49m\u001b[43mnodata\u001b[49m \u001b[38;5;129;01mand\u001b[39;00m \u001b[38;5;129;01mnot\u001b[39;00m np\u001b[38;5;241m.\u001b[39misnan(pvo_val):\n\u001b[1;32m     29\u001b[0m         \n\u001b[1;32m     30\u001b[0m         \u001b[38;5;66;03m# Converting pixel coords to geographic coords\u001b[39;00m\n\u001b[1;32m     31\u001b[0m         lat, long \u001b[38;5;241m=\u001b[39m ds\u001b[38;5;241m.\u001b[39mxy(t, row, col)\n\u001b[1;32m     32\u001b[0m         lats\u001b[38;5;241m.\u001b[39mappend(lat)\n",
      "\u001b[0;31mKeyboardInterrupt\u001b[0m: "
     ]
    }
   ],
   "source": [
    "# gsa\n",
    "\n",
    "tif_files = {}\n",
    "datasets = {}\n",
    "for i in range (1, 2):\n",
    "    if i < 10:\n",
    "        tif_file_wst = f\"../Data/gsa/westhem-monthly/PVOUT_0{i}.tif\"\n",
    "    else:\n",
    "        tif_file_wst = f\"../Data/gsa/westhem-monthly/PVOUT_{i}.tif\"\n",
    "    tif_files[i] = tif_file_wst\n",
    "    \n",
    "    # Reading the .tif file\n",
    "    with rasterio.open(tif_file_wst) as ds:\n",
    "        pvo_data = ds.read(1)  # Reading the first band\n",
    "        \n",
    "        # Data dimensions\n",
    "        h = ds.height\n",
    "        w = ds.width\n",
    "        t = ds.transform\n",
    "\n",
    "        # Data values\n",
    "        lats = []\n",
    "        longs = []\n",
    "        pvo_vals = []\n",
    "\n",
    "        # Extracting the information of each data points from processed .tif file\n",
    "        for row in range(h):\n",
    "            for col in range(w):\n",
    "                pvo_val = pvo_data[row, col]\n",
    "                if pvo_val != ds.nodata and not np.isnan(pvo_val):\n",
    "                    \n",
    "                    # Converting pixel coords to geographic coords\n",
    "                    lat, long = ds.xy(t, row, col)\n",
    "                    lats.append(lat)\n",
    "                    longs.append(long)\n",
    "                    pvo_vals.append(pvo_val)\n",
    "\n",
    "        # Creating a DataFrame\n",
    "        df = pd.DataFrame({\n",
    "            'latitude': lats,\n",
    "            'longitude': longs,\n",
    "            'pvo': pvo_vals\n",
    "        })\n",
    "        datasets[i] = df            \n",
    "\n",
    "print(datasets[1].head())"
   ]
  },
  {
   "cell_type": "code",
   "execution_count": 6,
   "id": "4581d844",
   "metadata": {},
   "outputs": [
    {
     "name": "stdout",
     "output_type": "stream",
     "text": [
      "   latitude  longitude  irradiance\n",
      "0     59.97    -167.58  138.034978\n",
      "1     59.97    -167.54  138.196966\n",
      "2     59.97    -167.50  139.161330\n",
      "3     59.97    -167.46  140.819042\n",
      "4     59.97    -167.42  139.861075\n"
     ]
    }
   ],
   "source": [
    "# nrel\n",
    "\n",
    "irradiance_file = \"../Data/nrel/monthly-ghi/ghi_apr.tif\"\n",
    "\n",
    "with rasterio.open(irradiance_file) as ds:\n",
    "    irr_data = ds.read(1) \n",
    "    \n",
    "    height = ds.height\n",
    "    width = ds.width\n",
    "    transform = ds.transform\n",
    "    \n",
    "    lats, longs, irr_vals = [], [], []\n",
    "    \n",
    "    # Extract data points\n",
    "    for row in range(height):\n",
    "        for col in range(width):\n",
    "            irr_val = irr_data[row, col]\n",
    "            if irr_val != ds.nodata and not np.isnan(irr_val):\n",
    "                # Convert pixel coords to geographic coords\n",
    "                long, lat = rasterio.transform.xy(transform, row, col)\n",
    "                lats.append(lat)\n",
    "                longs.append(long)\n",
    "                irr_vals.append(irr_val)\n",
    "    \n",
    "    irr_df = pd.DataFrame({\n",
    "        'latitude': lats,\n",
    "        'longitude': longs,\n",
    "        'irradiance': irr_vals\n",
    "    })\n",
    "\n",
    "print(irr_df.head())"
   ]
  },
  {
   "cell_type": "code",
   "execution_count": null,
   "id": "ab04416c",
   "metadata": {},
   "outputs": [],
   "source": []
  }
 ],
 "metadata": {
  "kernelspec": {
   "display_name": "ml-0451",
   "language": "python",
   "name": "python3"
  },
  "language_info": {
   "codemirror_mode": {
    "name": "ipython",
    "version": 3
   },
   "file_extension": ".py",
   "mimetype": "text/x-python",
   "name": "python",
   "nbconvert_exporter": "python",
   "pygments_lexer": "ipython3",
   "version": "3.9.18"
  }
 },
 "nbformat": 4,
 "nbformat_minor": 5
}
