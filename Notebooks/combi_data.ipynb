{
 "cells": [
  {
   "cell_type": "markdown",
   "metadata": {},
   "source": [
    "# Combining Our Local Data Sources\n",
    "\n",
    "## Combining `.tif` File Data"
   ]
  },
  {
   "cell_type": "code",
   "execution_count": null,
   "metadata": {},
   "outputs": [
    {
     "name": "stdout",
     "output_type": "stream",
     "text": [
      "Empty DataFrame\n",
      "Columns: [latitude, longitude, pvo]\n",
      "Index: []\n"
     ]
    }
   ],
   "source": [
    "from rasterio.plot import plotting_extent\n",
    "import matplotlib.pyplot as plt\n",
    "import pandas as pd\n",
    "import numpy as np\n",
    "import rasterio\n",
    "\n",
    "tif_files = {}\n",
    "datasets = {}\n",
    "for i in range (1, 2):\n",
    "    if i < 10:\n",
    "        tif_file_wst = f\"../Data/gsa/westhem-monthly/PVOUT_0{i}.tif\"\n",
    "    else:\n",
    "        tif_file_wst = f\"../Data/gsa/westhem-monthly/PVOUT_{i}.tif\"\n",
    "    tif_files[i] = tif_file_wst\n",
    "    \n",
    "    # Reading the .tif file\n",
    "    with rasterio.open(tif_file_wst) as ds:\n",
    "        pvo_data = ds.read(1)  # Reading the first band\n",
    "        \n",
    "        # Data dimensions\n",
    "        h = ds.height\n",
    "        w = ds.width\n",
    "        t = ds.transform\n",
    "\n",
    "        # Data values\n",
    "        lats = []\n",
    "        longs = []\n",
    "        pvo_vals = []\n",
    "\n",
    "        # Extracting the information of each data points from processed .tif file\n",
    "        for row in range(h):\n",
    "            for col in range(w):\n",
    "                pvo_val = pvo_data[row, col]\n",
    "                if pvo_val != ds.nodata and not np.isnan(pvo_val):\n",
    "                    \n",
    "                    # Converting pixel coords to geographic coords\n",
    "                    lat, long = ds.xy(t, row, col)\n",
    "                    lats.append(lat)\n",
    "                    longs.append(long)\n",
    "                    pvo_vals.append(pvo_val)\n",
    "\n",
    "        # Creating a DataFrame\n",
    "        df = pd.DataFrame({\n",
    "            'latitude': lats,\n",
    "            'longitude': longs,\n",
    "            'pvo': pvo_vals\n",
    "        })\n",
    "        datasets[i] = df            \n",
    "\n",
    "print(datasets[1].head())"
   ]
  }
 ],
 "metadata": {
  "kernelspec": {
   "display_name": "ml-0451",
   "language": "python",
   "name": "python3"
  },
  "language_info": {
   "codemirror_mode": {
    "name": "ipython",
    "version": 3
   },
   "file_extension": ".py",
   "mimetype": "text/x-python",
   "name": "python",
   "nbconvert_exporter": "python",
   "pygments_lexer": "ipython3",
   "version": "3.9.21"
  }
 },
 "nbformat": 4,
 "nbformat_minor": 5
}
