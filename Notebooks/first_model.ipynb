{
 "cells": [
  {
   "cell_type": "code",
   "execution_count": 2,
   "metadata": {},
   "outputs": [],
   "source": [
    "import pandas as pd\n",
    "import torch"
   ]
  },
  {
   "cell_type": "code",
   "execution_count": 5,
   "metadata": {},
   "outputs": [
    {
     "data": {
      "text/html": [
       "<div>\n",
       "<style scoped>\n",
       "    .dataframe tbody tr th:only-of-type {\n",
       "        vertical-align: middle;\n",
       "    }\n",
       "\n",
       "    .dataframe tbody tr th {\n",
       "        vertical-align: top;\n",
       "    }\n",
       "\n",
       "    .dataframe thead th {\n",
       "        text-align: right;\n",
       "    }\n",
       "</style>\n",
       "<table border=\"1\" class=\"dataframe\">\n",
       "  <thead>\n",
       "    <tr style=\"text-align: right;\">\n",
       "      <th></th>\n",
       "      <th>lat_2dp</th>\n",
       "      <th>lon_2dp</th>\n",
       "      <th>month</th>\n",
       "      <th>pvo</th>\n",
       "      <th>irradiance</th>\n",
       "      <th>elevation</th>\n",
       "    </tr>\n",
       "  </thead>\n",
       "  <tbody>\n",
       "    <tr>\n",
       "      <th>0</th>\n",
       "      <td>18.85</td>\n",
       "      <td>-155.74</td>\n",
       "      <td>1</td>\n",
       "      <td>4.7340</td>\n",
       "      <td>194.719617</td>\n",
       "      <td>-2015.588257</td>\n",
       "    </tr>\n",
       "    <tr>\n",
       "      <th>1</th>\n",
       "      <td>18.85</td>\n",
       "      <td>-155.74</td>\n",
       "      <td>2</td>\n",
       "      <td>4.9785</td>\n",
       "      <td>221.339286</td>\n",
       "      <td>-2015.588257</td>\n",
       "    </tr>\n",
       "    <tr>\n",
       "      <th>2</th>\n",
       "      <td>18.85</td>\n",
       "      <td>-155.74</td>\n",
       "      <td>3</td>\n",
       "      <td>5.1175</td>\n",
       "      <td>243.341858</td>\n",
       "      <td>-2015.588257</td>\n",
       "    </tr>\n",
       "    <tr>\n",
       "      <th>3</th>\n",
       "      <td>18.85</td>\n",
       "      <td>-155.74</td>\n",
       "      <td>4</td>\n",
       "      <td>5.2020</td>\n",
       "      <td>264.600658</td>\n",
       "      <td>-2015.588257</td>\n",
       "    </tr>\n",
       "    <tr>\n",
       "      <th>4</th>\n",
       "      <td>18.85</td>\n",
       "      <td>-155.74</td>\n",
       "      <td>5</td>\n",
       "      <td>5.1510</td>\n",
       "      <td>273.507216</td>\n",
       "      <td>-2015.588257</td>\n",
       "    </tr>\n",
       "  </tbody>\n",
       "</table>\n",
       "</div>"
      ],
      "text/plain": [
       "   lat_2dp  lon_2dp  month     pvo  irradiance    elevation\n",
       "0    18.85  -155.74      1  4.7340  194.719617 -2015.588257\n",
       "1    18.85  -155.74      2  4.9785  221.339286 -2015.588257\n",
       "2    18.85  -155.74      3  5.1175  243.341858 -2015.588257\n",
       "3    18.85  -155.74      4  5.2020  264.600658 -2015.588257\n",
       "4    18.85  -155.74      5  5.1510  273.507216 -2015.588257"
      ]
     },
     "execution_count": 5,
     "metadata": {},
     "output_type": "execute_result"
    }
   ],
   "source": [
    "df = pd.read_csv('../Data/CSVS/csvs_combined.csv')\n",
    "df.head()"
   ]
  },
  {
   "cell_type": "code",
   "execution_count": 6,
   "metadata": {},
   "outputs": [],
   "source": [
    "X = df[['lat_2dp', 'lon_2dp', 'month', 'irradiance', 'elevation']].values\n",
    "y = df['pvo'].values\n",
    "\n",
    "X_tensor = torch.tensor(X, dtype=torch.float32)\n",
    "y_tensor = torch.tensor(y, dtype=torch.float32)"
   ]
  }
 ],
 "metadata": {
  "kernelspec": {
   "display_name": "ml-0451",
   "language": "python",
   "name": "python3"
  },
  "language_info": {
   "codemirror_mode": {
    "name": "ipython",
    "version": 3
   },
   "file_extension": ".py",
   "mimetype": "text/x-python",
   "name": "python",
   "nbconvert_exporter": "python",
   "pygments_lexer": "ipython3",
   "version": "3.9.21"
  },
  "orig_nbformat": 4
 },
 "nbformat": 4,
 "nbformat_minor": 2
}
