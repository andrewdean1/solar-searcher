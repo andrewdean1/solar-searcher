{
 "cells": [
  {
   "cell_type": "code",
   "execution_count": 1,
   "metadata": {},
   "outputs": [],
   "source": [
    "import pandas as pd\n",
    "import torch"
   ]
  },
  {
   "cell_type": "code",
   "execution_count": 2,
   "metadata": {},
   "outputs": [
    {
     "data": {
      "text/html": [
       "<div>\n",
       "<style scoped>\n",
       "    .dataframe tbody tr th:only-of-type {\n",
       "        vertical-align: middle;\n",
       "    }\n",
       "\n",
       "    .dataframe tbody tr th {\n",
       "        vertical-align: top;\n",
       "    }\n",
       "\n",
       "    .dataframe thead th {\n",
       "        text-align: right;\n",
       "    }\n",
       "</style>\n",
       "<table border=\"1\" class=\"dataframe\">\n",
       "  <thead>\n",
       "    <tr style=\"text-align: right;\">\n",
       "      <th></th>\n",
       "      <th>lat_2dp</th>\n",
       "      <th>lon_2dp</th>\n",
       "      <th>month</th>\n",
       "      <th>pvo</th>\n",
       "      <th>irradiance</th>\n",
       "      <th>elevation</th>\n",
       "    </tr>\n",
       "  </thead>\n",
       "  <tbody>\n",
       "    <tr>\n",
       "      <th>0</th>\n",
       "      <td>18.85</td>\n",
       "      <td>-155.74</td>\n",
       "      <td>1</td>\n",
       "      <td>4.7340</td>\n",
       "      <td>194.719617</td>\n",
       "      <td>-2015.588257</td>\n",
       "    </tr>\n",
       "    <tr>\n",
       "      <th>1</th>\n",
       "      <td>18.85</td>\n",
       "      <td>-155.74</td>\n",
       "      <td>2</td>\n",
       "      <td>4.9785</td>\n",
       "      <td>221.339286</td>\n",
       "      <td>-2015.588257</td>\n",
       "    </tr>\n",
       "    <tr>\n",
       "      <th>2</th>\n",
       "      <td>18.85</td>\n",
       "      <td>-155.74</td>\n",
       "      <td>3</td>\n",
       "      <td>5.1175</td>\n",
       "      <td>243.341858</td>\n",
       "      <td>-2015.588257</td>\n",
       "    </tr>\n",
       "    <tr>\n",
       "      <th>3</th>\n",
       "      <td>18.85</td>\n",
       "      <td>-155.74</td>\n",
       "      <td>4</td>\n",
       "      <td>5.2020</td>\n",
       "      <td>264.600658</td>\n",
       "      <td>-2015.588257</td>\n",
       "    </tr>\n",
       "    <tr>\n",
       "      <th>4</th>\n",
       "      <td>18.85</td>\n",
       "      <td>-155.74</td>\n",
       "      <td>5</td>\n",
       "      <td>5.1510</td>\n",
       "      <td>273.507216</td>\n",
       "      <td>-2015.588257</td>\n",
       "    </tr>\n",
       "  </tbody>\n",
       "</table>\n",
       "</div>"
      ],
      "text/plain": [
       "   lat_2dp  lon_2dp  month     pvo  irradiance    elevation\n",
       "0    18.85  -155.74      1  4.7340  194.719617 -2015.588257\n",
       "1    18.85  -155.74      2  4.9785  221.339286 -2015.588257\n",
       "2    18.85  -155.74      3  5.1175  243.341858 -2015.588257\n",
       "3    18.85  -155.74      4  5.2020  264.600658 -2015.588257\n",
       "4    18.85  -155.74      5  5.1510  273.507216 -2015.588257"
      ]
     },
     "execution_count": 2,
     "metadata": {},
     "output_type": "execute_result"
    }
   ],
   "source": [
    "df = pd.read_csv('../Data/CSVS/csvs_combined.csv')\n",
    "df.head()"
   ]
  },
  {
   "cell_type": "code",
   "execution_count": 15,
   "metadata": {},
   "outputs": [
    {
     "name": "stdout",
     "output_type": "stream",
     "text": [
      "        lat_2dp  lon_2dp       pvo  irradiance    elevation\n",
      "0         18.85  -155.74  4.988375  238.993130 -2015.588257\n",
      "1         18.85  -155.70  4.975792  238.057365  -628.072632\n",
      "2         18.85  -155.66  4.981292  238.224194  -996.744873\n",
      "3         18.85  -155.62  5.004083  238.767144 -1880.156860\n",
      "4         18.89  -155.78  4.933083  237.785906 -1788.161011\n",
      "...         ...      ...       ...         ...          ...\n",
      "452618    59.97  -138.78  2.874167  105.470786  1634.174072\n",
      "452619    59.97  -138.74  2.767167   91.762697  1560.965332\n",
      "452620    59.97  -138.70  3.155167   90.427910  1198.920898\n",
      "452621    59.97  -138.66  3.325750   92.296680  1127.904053\n",
      "452622    59.97  -138.62  3.368833  101.603930  1063.649780\n",
      "\n",
      "[452623 rows x 5 columns]\n"
     ]
    }
   ],
   "source": [
    "location_avg = df.groupby(['lat_2dp', 'lon_2dp']).agg({\n",
    "    'pvo': 'mean',\n",
    "    'irradiance': 'mean',\n",
    "    'elevation': 'mean'\n",
    "}).reset_index()\n",
    "print(location_avg)\n",
    "\n",
    "location_avg.to_csv('../Data/CSVS/location_agg.csv', index=False, encoding='utf-8')"
   ]
  },
  {
   "cell_type": "code",
   "execution_count": 16,
   "metadata": {},
   "outputs": [],
   "source": [
    "df = pd.read_csv(\"../Data/CSVS/location_agg.csv\")\n",
    "\n",
    "X = df[['lat_2dp', 'lon_2dp', 'irradiance', 'elevation']].values\n",
    "y = df['pvo'].values\n",
    "\n",
    "X_tensor = torch.tensor(X, dtype=torch.float32)\n",
    "y_tensor = torch.tensor(y, dtype=torch.float32)"
   ]
  },
  {
   "cell_type": "code",
   "execution_count": null,
   "metadata": {},
   "outputs": [],
   "source": []
  }
 ],
 "metadata": {
  "kernelspec": {
   "display_name": "ml-0451",
   "language": "python",
   "name": "python3"
  },
  "language_info": {
   "codemirror_mode": {
    "name": "ipython",
    "version": 3
   },
   "file_extension": ".py",
   "mimetype": "text/x-python",
   "name": "python",
   "nbconvert_exporter": "python",
   "pygments_lexer": "ipython3",
   "version": "3.9.18"
  },
  "orig_nbformat": 4
 },
 "nbformat": 4,
 "nbformat_minor": 2
}
