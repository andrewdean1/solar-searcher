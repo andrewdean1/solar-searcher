{
 "cells": [
  {
   "cell_type": "markdown",
   "metadata": {},
   "source": [
    "---\n",
    "title: \"Project Solar-Searcher\"\n",
    "authors: \n",
    "  - name: Omar Armbruster  \n",
    "  - name: Andrew Dean\n",
    "  - name: Col McDermott\n",
    "  - name: Noah Price\n",
    "date: \"05-19-2025\"\n",
    "image: \"./images/solar-searcher.png\"\n",
    "description: \"Identifying the optimal locations for solar energy system development in the continental US\"\n",
    "format: html\n",
    "bibliography: refs.bib\n",
    "code-fold: true\n",
    "execute:\n",
    "  warning: false\n",
    "  message: false\n",
    "---"
   ]
  },
  {
   "cell_type": "markdown",
   "metadata": {},
   "source": [
    "# Abstract\n",
    "As the severity of climate change continues to increase and the consumption of energy in the US remains massive, a critical focus of today’s power industry is establishing sources of renewable energy to replace less climate-friendly alternatives.  Three of the most common avenues for renewable energy solutions are in solar-, hydro-, and wind-powered generators.  Focusing on solar energy systems, we aim to address the problem of locating optimal regions throughout the US to build solar farms for cleaner energy production.  Our general approach to this problem is to determine the predicted energy output of installing a solar system at a given coordinate location in the continental US.  Leveraging several machine learning techniques to assist our success, we chose to frame this problem as a standard regression task performed by a predictive model.  For training and informing the design of our predictive models, we collected, cleaned, and combined location-specific data from several sources on weather, elevation, and solar statistics throughout the continental US.  Our modeling approach involves the use of a custom neural network and experimentation with different network layers and nonlinear activation functions.  In addition to constructing our custom models, we fit and evaluated a standard linear regression model from the `sklearn` library to compare predictive performance across several model architectures (performance assessed via Mean-Squared-Error loss minimization).  From our model tuning and comparison procedures, we found that a linear regression model using the ReLU activation function offers the most accurate solar energy predictions.  To visualize and interpret our findings, we developed an interactive map of the continental US, displaying predicted solar energy output (in kWh/kWp) at a resolution of approximately 4 km².  We intend for our potential solar energy map to stand as a practical tool for guiding future solar system development and planning.\n",
    "\n",
    "The entirety of our work is accessible in the following public repository: (Solar-Searcher)[https://github.com/andrewdean1/solar-searcher]."
   ]
  },
  {
   "cell_type": "markdown",
   "metadata": {},
   "source": [
    "# Introduction"
   ]
  },
  {
   "cell_type": "markdown",
   "metadata": {},
   "source": [
    "# Values Statement"
   ]
  },
  {
   "attachments": {},
   "cell_type": "markdown",
   "metadata": {},
   "source": [
    "# Materials and Data"
   ]
  },
  {
   "attachments": {},
   "cell_type": "markdown",
   "metadata": {},
   "source": [
    "# Methods"
   ]
  },
  {
   "attachments": {},
   "cell_type": "markdown",
   "metadata": {},
   "source": [
    "# Results"
   ]
  },
  {
   "attachments": {},
   "cell_type": "markdown",
   "metadata": {},
   "source": [
    "# Discussion"
   ]
  },
  {
   "attachments": {},
   "cell_type": "markdown",
   "metadata": {},
   "source": [
    "# Group Contribution Statement"
   ]
  },
  {
   "attachments": {},
   "cell_type": "markdown",
   "metadata": {},
   "source": [
    "# Personal Reflection"
   ]
  },
  {
   "cell_type": "markdown",
   "metadata": {},
   "source": [
    "# References\n",
    "::: {#refs}"
   ]
  }
 ],
 "metadata": {
  "language_info": {
   "name": "python"
  },
  "orig_nbformat": 4
 },
 "nbformat": 4,
 "nbformat_minor": 2
}
